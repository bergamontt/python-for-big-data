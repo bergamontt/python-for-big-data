{
 "nbformat": 4,
 "nbformat_minor": 0,
 "metadata": {
  "colab": {
   "provenance": []
  },
  "kernelspec": {
   "name": "python3",
   "display_name": "Python 3"
  },
  "language_info": {
   "name": "python"
  }
 },
 "cells": [
  {
   "cell_type": "markdown",
   "source": [
    "# I. OOP"
   ],
   "metadata": {
    "id": "5qV_sehzFCTp"
   }
  },
  {
   "cell_type": "markdown",
   "source": [
    "1. (6б). Створіть клас Building, додайте три атрибути, один з яких має значення за замовчуванням та два методи на свій розсуд."
   ],
   "metadata": {
    "id": "tx_U_hOALyfg"
   }
  },
  {
   "cell_type": "code",
   "source": [
    "class Building (object):\n",
    "  def __init__(self, size, capacity, color = \"grey\"):\n",
    "    self.size = size\n",
    "    self.capacity = capacity\n",
    "    self.color = color\n",
    "\n",
    "  def increment_capacity(self):\n",
    "    self.capacity += 1\n",
    "    return self.capacity\n",
    "\n",
    "  def __str__(self):\n",
    "    return f\"A {self.color} building with size {self.size} and capacity {self.capacity}\""
   ],
   "metadata": {
    "id": "-Vf895KaL88N"
   },
   "execution_count": 2,
   "outputs": []
  },
  {
   "cell_type": "markdown",
   "source": [
    "2. (2б). Створіть два обʼєкти цього класу, де один з обʼєктів створюється із дефолтним значенням атрибуту. На одному обʼєкті отримайте значення його атрибуту, а на іншому викличте один з його методів."
   ],
   "metadata": {
    "id": "X_UlOMB0L93w"
   }
  },
  {
   "cell_type": "code",
   "source": [
    "cool_building = Building(5, 20)\n",
    "sad_building = Building(1, 50, \"black\")\n",
    "\n",
    "print(cool_building.color)\n",
    "print(sad_building.increment_capacity())"
   ],
   "metadata": {
    "id": "7gBu0ESOMCpG",
    "colab": {
     "base_uri": "https://localhost:8080/"
    },
    "outputId": "1d45cb96-761f-48e5-89b3-128a2a22fce0"
   },
   "execution_count": 6,
   "outputs": [
    {
     "output_type": "stream",
     "name": "stdout",
     "text": [
      "grey\n",
      "51\n"
     ]
    }
   ]
  },
  {
   "cell_type": "markdown",
   "source": [
    "3. (5б). Створіть клас, де атрибути мають різні рівні доступу. Спробуйте отримати їхні значення та опишіть результати."
   ],
   "metadata": {
    "id": "HoqSCZt1MHn5"
   }
  },
  {
   "cell_type": "code",
   "source": [
    "class Dummy(object):\n",
    "  def __init__(self, state, iq, color):\n",
    "    self.state = state\n",
    "    self.__iq = iq\n",
    "    self._color = color\n",
    "\n",
    "  def get_iq(self):\n",
    "    return self.__iq\n",
    "\n",
    "dummy = Dummy(\"happy\", 2, \"blue\")\n",
    "\n",
    "print(f\"Dummy's public attribute 'state' is {dummy.state}\")\n",
    "print(f\"Dummy's protected attribute 'color' is {dummy._color} (bad thing!)\")\n",
    "\n",
    "try:\n",
    "  print(f\"Dummy's private attribute 'iq' is {dummy.iq}\")\n",
    "except AttributeError:\n",
    "  print(\"We can't access Dummy's private attribute 'iq' directly :C\")\n",
    "\n",
    "print(f\"But with getter we now know that Dummy's private attribute 'iq' is {dummy.get_iq()}!\")"
   ],
   "metadata": {
    "id": "r9b3vJxBMSPV",
    "colab": {
     "base_uri": "https://localhost:8080/"
    },
    "outputId": "4a445a20-b56a-4835-95d3-69de94885526"
   },
   "execution_count": 12,
   "outputs": [
    {
     "output_type": "stream",
     "name": "stdout",
     "text": [
      "Dummy's public attribute 'state' is happy\n",
      "Dummy's protected attribute 'color' is blue\n",
      "We can't access Dummy's private attribute 'iq' directly :C\n",
      "But with getter we now know that Dummy's private attribute 'iq' is 2!\n"
     ]
    }
   ]
  },
  {
   "cell_type": "markdown",
   "source": [
    "4. (7б). Як ви розумієте термін self? Для чого використовується метод __init __?"
   ],
   "metadata": {
    "id": "5op2m2vgMSkZ"
   }
  },
  {
   "cell_type": "markdown",
   "source": [
    "Self це указник на екземляр класу\n",
    "\n",
    "__init__ це конструктор класу, він ініціалізує значення атрибутів екземплярів класу"
   ],
   "metadata": {
    "id": "DyiPqNRvMasx"
   }
  },
  {
   "cell_type": "markdown",
   "source": [
    "5. (9б). Створіть клас 3D-фігура без атрибутів, з методом get_volume для отримання об'єму фігури, що повертає 0 та __add __, який приймає self та other в якості аргументів, а повертає суму об'ємів 3d-фігур self та other."
   ],
   "metadata": {
    "id": "-6X8EGfjMd2y"
   }
  },
  {
   "cell_type": "code",
   "source": [
    "class Figure3D(object):\n",
    "  def get_volume(self):\n",
    "    return 0\n",
    "\n",
    "  def __add__(self, other):\n",
    "    return self.get_volume() + self.get_volume()"
   ],
   "metadata": {
    "id": "4rvO_wYUMaEr"
   },
   "execution_count": 13,
   "outputs": []
  },
  {
   "cell_type": "markdown",
   "source": [
    "6. (11б). Створіть 2 дочірніх класи від 3d-фігура: Циліндр та Куб, які мають атрибути, необхідні для розрахунку об'єму. Визначте метод get_volume в кожному з них так, щоби вони розраховували об'єм у залежності від формули для кожного типу фігури. Створіть обʼєкт класу Циліндр та обʼєкт класу Куб. Виконайте операцію суми за допомогою оператора + між ними, аби знайти сумарний об'єм."
   ],
   "metadata": {
    "id": "SFcKnnv5Mo_z"
   }
  },
  {
   "cell_type": "code",
   "source": [
    "import math\n",
    "\n",
    "class Cube(Figure3D):\n",
    "  def __init__(self, side):\n",
    "    self.side = side\n",
    "\n",
    "  def get_volume(self):\n",
    "    return self.side * self.side * self.side\n",
    "\n",
    "class Cylinder(Figure3D):\n",
    "  def __init__(self, radius, height):\n",
    "    self.radius = radius\n",
    "    self.height = height\n",
    "\n",
    "  def get_volume(self):\n",
    "    return math.pi * self.height * self.radius * self.radius\n",
    "\n",
    "cool_cube = Cube(3)\n",
    "cool_cylinder = Cylinder(2, 4)\n",
    "print(cool_cube.get_volume())\n",
    "print(cool_cylinder.get_volume())\n",
    "print(cool_cube + cool_cylinder)"
   ],
   "metadata": {
    "id": "H3GVNr69Muf3",
    "colab": {
     "base_uri": "https://localhost:8080/"
    },
    "outputId": "2725ae14-b056-48b9-d3cc-6aaca0bea6b0"
   },
   "execution_count": 14,
   "outputs": [
    {
     "output_type": "stream",
     "name": "stdout",
     "text": [
      "27\n",
      "50.26548245743669\n",
      "54\n"
     ]
    }
   ]
  },
  {
   "cell_type": "markdown",
   "source": [
    "7. (3б). Продемонструйте різницю між isinstance та issubclass."
   ],
   "metadata": {
    "id": "HCvR206YMvLK"
   }
  },
  {
   "cell_type": "code",
   "source": [
    "print(isinstance(cool_cube, Cube))\n",
    "print(isinstance(cool_cube, Figure3D))\n",
    "print(isinstance(cool_cube, Cylinder))\n",
    "print(issubclass(Cube, Figure3D))\n",
    "print(issubclass(Cylinder, Cube))"
   ],
   "metadata": {
    "id": "L_V1bBvDM0GN",
    "colab": {
     "base_uri": "https://localhost:8080/"
    },
    "outputId": "88a15817-2f26-4da6-cca5-349e60c0baa4"
   },
   "execution_count": 15,
   "outputs": [
    {
     "output_type": "stream",
     "name": "stdout",
     "text": [
      "True\n",
      "True\n",
      "False\n",
      "True\n",
      "False\n"
     ]
    }
   ]
  },
  {
   "cell_type": "markdown",
   "source": [
    "8. (13б). Створіть клас EWallet з приватними атрибутами balance та id. Реалізуйте методи поповнення та зняття коштів, забезпечивши належну інкапсуляцію. Підказка: використовуйте декоратори property та setter."
   ],
   "metadata": {
    "id": "jjsaBZ-iM0Qq"
   }
  },
  {
   "cell_type": "code",
   "source": [
    "class EWallet(object):\n",
    "\n",
    "  def __init__(self, eid, balance = 0):\n",
    "    if balance < 0:\n",
    "      raise ValueError(\"Balance cannot be negative\")\n",
    "    self.__eid = eid\n",
    "    self.__balance = balance\n",
    "\n",
    "  def top_up_balance(self, amount):\n",
    "    if amount < 0:\n",
    "      raise ValueError(\"You cannot top up balance by negative amount\")\n",
    "    self.balance += amount\n",
    "\n",
    "  def withdraw_from_balance(self, amount):\n",
    "    if amount < 0:\n",
    "      raise ValueError(\"You cannot withdraw from balance negative amount\")\n",
    "    self.balance -= amount\n",
    "\n",
    "  @property\n",
    "  def balance(self):\n",
    "    return self.__balance\n",
    "\n",
    "  @balance.setter\n",
    "  def balance(self, new_balance):\n",
    "    if new_balance < 0:\n",
    "      raise ValueError(\"Balance cannot be negative\")\n",
    "    self.__balance = new_balance\n",
    "\n",
    "my_wallet = EWallet(245)\n",
    "my_wallet.top_up_balance(100)\n",
    "print(my_wallet.balance)\n",
    "my_wallet.withdraw_from_balance(70)\n",
    "print(my_wallet.balance)\n",
    "\n",
    "try:\n",
    "  my_wallet.withdraw_from_balance(40)\n",
    "except ValueError as e:\n",
    "  print(e)"
   ],
   "metadata": {
    "id": "xCvZ7lh8M7YA",
    "colab": {
     "base_uri": "https://localhost:8080/"
    },
    "outputId": "99dbb093-62b9-4050-9d4f-f9b80b15f759"
   },
   "execution_count": 17,
   "outputs": [
    {
     "output_type": "stream",
     "name": "stdout",
     "text": [
      "100\n",
      "30\n",
      "Balance cannot be negative\n"
     ]
    }
   ]
  },
  {
   "cell_type": "markdown",
   "source": [
    "9. (11б). Створіть клас ShoppingCart, який містить список об'єктів типу Item. Реалізуйте методи для додавання айтемів, їх видалення та відображення списку айтемів."
   ],
   "metadata": {
    "id": "tIzL2SJTM8ft"
   }
  },
  {
   "cell_type": "code",
   "source": [
    "class Item(object):\n",
    "  def __init__(self, name, price):\n",
    "    self.__name = name\n",
    "    self.__price = price\n",
    "\n",
    "  @property\n",
    "  def name(self):\n",
    "    return self.__name\n",
    "\n",
    "  @property\n",
    "  def price(self):\n",
    "    return self.__price\n",
    "\n",
    "  @price.setter\n",
    "  def price(self, new_price):\n",
    "    if new_price < 0:\n",
    "      raise ValueError(\"Price cannot be negative\")\n",
    "    self.__price = new_price\n",
    "\n",
    "  @name.setter\n",
    "  def name(self, new_name):\n",
    "    if new_name == \"\":\n",
    "       raise ValueError(\"Name cannot be empty\")\n",
    "    self.__name = new_name\n",
    "\n",
    "  def __eq__(self, other):\n",
    "    return self.name == other.name and self.price == other.price\n",
    "\n",
    "  def __str__(self):\n",
    "    return f\"{self.name}: {self.price}\"\n",
    "\n",
    "  def __repr__(self):\n",
    "    return str(self)\n",
    "\n",
    "class ShoppingCart(object):\n",
    "  def __init__(self, items = None):\n",
    "    if items is None:\n",
    "      items = list()\n",
    "    self.__items = items\n",
    "\n",
    "  @property\n",
    "  def items(self):\n",
    "    return self.__items\n",
    "\n",
    "  def size(self):\n",
    "    return len(self.items)\n",
    "\n",
    "  def add_item(self, item):\n",
    "    self.items.add(item)\n",
    "\n",
    "  def add_items(self, items):\n",
    "    self.items.extend(items)\n",
    "\n",
    "  def remove_item(self, item):\n",
    "    self.items.remove(item)\n",
    "\n",
    "  def remove_item_by_index(self, index):\n",
    "    if abs(index) >= self.size():\n",
    "      raise ValueError(\"Invalid items index\")\n",
    "    del self.items[index]\n",
    "\n",
    "  def clear(self):\n",
    "    self.items.clear()\n",
    "\n",
    "  def __str__(self):\n",
    "    return f\"Shopping cart with items: {self.items}\"\n",
    "\n",
    "my_cart = ShoppingCart()\n",
    "my_cart.add_items([Item(\"Mumbo\", 5), Item(\"Jumbo\", 77), Item(\"Apple\", 6)])\n",
    "print(my_cart)\n",
    "my_cart.remove_item_by_index(2)\n",
    "print(my_cart)"
   ],
   "metadata": {
    "id": "HWxfJKLtNAUZ",
    "colab": {
     "base_uri": "https://localhost:8080/"
    },
    "outputId": "f8eae291-775e-4fd8-9265-0295decf57a8"
   },
   "execution_count": 20,
   "outputs": [
    {
     "output_type": "stream",
     "name": "stdout",
     "text": [
      "Shopping cart with items: [Mumbo: 5, Jumbo: 77, Apple: 6]\n",
      "Shopping cart with items: [Mumbo: 5, Jumbo: 77]\n"
     ]
    }
   ]
  },
  {
   "cell_type": "markdown",
   "source": [
    "10. (13б). Створіть клас Vehicle з атрибутами brand (manufacturer) та production_age. Створіть ще один клас Engine з такими атрибутами, як type (ex. petrol) та size (volume, litres). Створіть клас Car, який успадковує обидва класи Vehicle та Engine. Продемонструйте використання множинної спадковості, створивши обʼєкт класу Car та отримавши mro для цього класу."
   ],
   "metadata": {
    "id": "lmV8pAwwNIqu"
   }
  },
  {
   "cell_type": "code",
   "source": [
    "class Vehicle(object):\n",
    "  def __init__(self, brand, production_age):\n",
    "    self.brand = brand\n",
    "    self.production_age = production_age\n",
    "\n",
    "  def __str__(self):\n",
    "    return f\"{self.brand.capitalize()} with age {self.production_age}\"\n",
    "\n",
    "class Engine(object):\n",
    "  def __init__(self, engine_type, size):\n",
    "    self.engine_type = engine_type\n",
    "    self.size = size\n",
    "\n",
    "  def __str__(self):\n",
    "    return f\"{self.engine_type.capitalize()} engine with size {self.size}\"\n",
    "\n",
    "class Car(Vehicle, Engine):\n",
    "  def __init__(self, brand, production_age, engine_type, size):\n",
    "    Vehicle.__init__(self, brand, production_age)\n",
    "    Engine.__init__(self, engine_type, size)\n",
    "\n",
    "  def __str__(self):\n",
    "    return f\"Car {Vehicle.__str__(self)} with {Engine.__str__(self)}\"\n",
    "\n",
    "my_super_car = Car(\"Subaru\", 20, \"Petrol\", 2.06)\n",
    "print(my_super_car)\n",
    "print(Car.mro())"
   ],
   "metadata": {
    "id": "R49grKlWNPeN",
    "colab": {
     "base_uri": "https://localhost:8080/"
    },
    "outputId": "2ca1f92f-f657-49f5-f2cd-528d3ce992b0"
   },
   "execution_count": 21,
   "outputs": [
    {
     "output_type": "stream",
     "name": "stdout",
     "text": [
      "Car Subaru with age 20 with Petrol engine with size 2.06\n",
      "[<class '__main__.Car'>, <class '__main__.Vehicle'>, <class '__main__.Engine'>, <class 'object'>]\n"
     ]
    }
   ]
  },
  {
   "cell_type": "markdown",
   "source": [
    "# II. Iterator"
   ],
   "metadata": {
    "id": "dIJyUiNBFG8G"
   }
  },
  {
   "cell_type": "markdown",
   "source": [
    "11. (4б). Визначте рядок(str) з 4ма різними за значенням символами. Створіть ітератор на основі цього рядка. Викличте 5 разів функцію next на ітераторі, 4ри перших з них огорніть у ф-цію print()."
   ],
   "metadata": {
    "id": "13vsm0NyKIzL"
   }
  },
  {
   "cell_type": "code",
   "source": [
    "cool_string = \"abcd\"\n",
    "cool_iter = iter(cool_string)\n",
    "for i in range (4):\n",
    "  print(next(cool_iter))\n",
    "next(cool_iter)"
   ],
   "metadata": {
    "id": "81ntabAkKuz-",
    "colab": {
     "base_uri": "https://localhost:8080/",
     "height": 245
    },
    "outputId": "859daca7-b7c0-4e31-b764-644f89b23879"
   },
   "execution_count": 22,
   "outputs": [
    {
     "output_type": "stream",
     "name": "stdout",
     "text": [
      "a\n",
      "b\n",
      "c\n",
      "d\n"
     ]
    },
    {
     "output_type": "error",
     "ename": "StopIteration",
     "evalue": "",
     "traceback": [
      "\u001B[0;31m---------------------------------------------------------------------------\u001B[0m",
      "\u001B[0;31mStopIteration\u001B[0m                             Traceback (most recent call last)",
      "\u001B[0;32m<ipython-input-22-82e62f33e5d0>\u001B[0m in \u001B[0;36m<cell line: 0>\u001B[0;34m()\u001B[0m\n\u001B[1;32m      3\u001B[0m \u001B[0;32mfor\u001B[0m \u001B[0mi\u001B[0m \u001B[0;32min\u001B[0m \u001B[0mrange\u001B[0m \u001B[0;34m(\u001B[0m\u001B[0;36m4\u001B[0m\u001B[0;34m)\u001B[0m\u001B[0;34m:\u001B[0m\u001B[0;34m\u001B[0m\u001B[0;34m\u001B[0m\u001B[0m\n\u001B[1;32m      4\u001B[0m   \u001B[0mprint\u001B[0m\u001B[0;34m(\u001B[0m\u001B[0mnext\u001B[0m\u001B[0;34m(\u001B[0m\u001B[0mcool_iter\u001B[0m\u001B[0;34m)\u001B[0m\u001B[0;34m)\u001B[0m\u001B[0;34m\u001B[0m\u001B[0;34m\u001B[0m\u001B[0m\n\u001B[0;32m----> 5\u001B[0;31m \u001B[0mnext\u001B[0m\u001B[0;34m(\u001B[0m\u001B[0mcool_iter\u001B[0m\u001B[0;34m)\u001B[0m\u001B[0;34m\u001B[0m\u001B[0;34m\u001B[0m\u001B[0m\n\u001B[0m",
      "\u001B[0;31mStopIteration\u001B[0m: "
     ]
    }
   ]
  },
  {
   "cell_type": "markdown",
   "source": [
    "А що якщо викликати цю ж функцію на рядку?"
   ],
   "metadata": {
    "id": "aekWHGXOLRsO"
   }
  },
  {
   "cell_type": "code",
   "source": [
    "next(cool_string)"
   ],
   "metadata": {
    "id": "mxATGsErLV1i",
    "colab": {
     "base_uri": "https://localhost:8080/",
     "height": 141
    },
    "outputId": "db1d482e-e8de-44dc-d01e-8a28e54b1d97"
   },
   "execution_count": 23,
   "outputs": [
    {
     "output_type": "error",
     "ename": "TypeError",
     "evalue": "'str' object is not an iterator",
     "traceback": [
      "\u001B[0;31m---------------------------------------------------------------------------\u001B[0m",
      "\u001B[0;31mTypeError\u001B[0m                                 Traceback (most recent call last)",
      "\u001B[0;32m<ipython-input-23-65540cc55166>\u001B[0m in \u001B[0;36m<cell line: 0>\u001B[0;34m()\u001B[0m\n\u001B[0;32m----> 1\u001B[0;31m \u001B[0mnext\u001B[0m\u001B[0;34m(\u001B[0m\u001B[0mcool_string\u001B[0m\u001B[0;34m)\u001B[0m\u001B[0;34m\u001B[0m\u001B[0;34m\u001B[0m\u001B[0m\n\u001B[0m",
      "\u001B[0;31mTypeError\u001B[0m: 'str' object is not an iterator"
     ]
    }
   ]
  },
  {
   "cell_type": "markdown",
   "source": [
    " 12. (5б). Опишіть своїми словами в одному реченні, як ви розумієте різницю між ітерабельними обʼєктами та ітераторами (можна на прикладі)."
   ],
   "metadata": {
    "id": "XwtMEopwJ4pH"
   }
  },
  {
   "cell_type": "markdown",
   "source": [
    "Ітерабельний об'єкт - це об'єкт по якому можна ітеруватися (проходитися по значеннях). Ітератор - об'єкт, який за допомогою методу next проходиться по ітерабельному об'єкту"
   ],
   "metadata": {
    "id": "-sHrODc3KFn8"
   }
  },
  {
   "cell_type": "markdown",
   "source": [
    "13. (11б). Створіть клас, що має визначений Iterator Protocol та при кожному виклику next повертає назву дня тижня, поки вони не вичерпаються. Зверніть увагу, що порядок має значення."
   ],
   "metadata": {
    "id": "E9qJWmNbK8Gl"
   }
  },
  {
   "cell_type": "code",
   "source": [
    "class Week(object):\n",
    "  def __init__ (self):\n",
    "    self.week = [\"monday\", \"tuesday\", \"wednesday\", \"thursday\", \"friday\", \"saturday\", \"sunday\"]\n",
    "    self.__last_index = 0\n",
    "\n",
    "  def __iter__(self):\n",
    "    self.__last_index = 0\n",
    "    return self\n",
    "\n",
    "  def __next__(self):\n",
    "    if self.__last_index >= len(self.week):\n",
    "      raise StopIteration\n",
    "    self.__last_index += 1\n",
    "    return self.week[self.__last_index - 1]\n",
    "\n",
    "my_week = Week()\n",
    "week_iter = iter(my_week)\n",
    "for i in range (7):\n",
    "  print(next(week_iter))\n"
   ],
   "metadata": {
    "id": "cqx-g_RsLo6I",
    "colab": {
     "base_uri": "https://localhost:8080/"
    },
    "outputId": "3442ad90-46af-4f07-d414-81dde6ecec7d"
   },
   "execution_count": 24,
   "outputs": [
    {
     "output_type": "stream",
     "name": "stdout",
     "text": [
      "monday\n",
      "tuesday\n",
      "wednesday\n",
      "thursday\n",
      "friday\n",
      "saturday\n",
      "sunday\n"
     ]
    }
   ]
  },
  {
   "cell_type": "markdown",
   "source": [
    "# Вітаю! Ви велика(ий) молодець, що впоралась(вся). Похваліть себе та побалуйте чимось приємним. Я Вами пишаюся."
   ],
   "metadata": {
    "id": "Z3E3S_s1Fv7-"
   }
  }
 ]
}
