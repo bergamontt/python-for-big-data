{
 "nbformat": 4,
 "nbformat_minor": 0,
 "metadata": {
  "colab": {
   "provenance": []
  },
  "kernelspec": {
   "name": "python3",
   "display_name": "Python 3"
  },
  "language_info": {
   "name": "python"
  }
 },
 "cells": [
  {
   "cell_type": "markdown",
   "source": [
    "# I. Functions. Arguments."
   ],
   "metadata": {
    "id": "kXpppdVm6wFy"
   }
  },
  {
   "cell_type": "markdown",
   "source": [
    "1. (5б) Назвіть основні 4 смислові  частини, з яких складається функція."
   ],
   "metadata": {
    "id": "u_krJdlbAkVz"
   }
  },
  {
   "cell_type": "markdown",
   "source": [
    "ключове слово def, назва функції, параметри функції, тіло функції"
   ],
   "metadata": {
    "id": "KKTrTXmHAptb"
   }
  },
  {
   "cell_type": "markdown",
   "source": [
    "2. (3б) Визначте функцію, що приймає 2 аргументи та повертає результат ділення 1го аргумента на інший."
   ],
   "metadata": {
    "id": "ORM4PqJQAtDM"
   }
  },
  {
   "cell_type": "code",
   "execution_count": 17,
   "metadata": {
    "id": "EuDx-z8M6sLo",
    "colab": {
     "base_uri": "https://localhost:8080/"
    },
    "outputId": "e573f985-1c39-492e-81fc-e70cd43cf8d1"
   },
   "outputs": [
    {
     "output_type": "stream",
     "name": "stdout",
     "text": [
      "0.5714285714285714\n"
     ]
    }
   ],
   "source": [
    "def divide(fst, scd):\n",
    "  return fst / scd\n",
    "\n",
    "fst_val = 4\n",
    "scd_val = 7\n",
    "print(divide(fst_val, scd_val))"
   ]
  },
  {
   "cell_type": "markdown",
   "source": [
    "3. (2б) Викличте вище визначену функцію, де другий аргумент дорівнює 0."
   ],
   "metadata": {
    "id": "5joQGQ-SAyMe"
   }
  },
  {
   "cell_type": "code",
   "source": [
    "bad_decision = 0\n",
    "print(divide(fst_val, bad_decision))"
   ],
   "metadata": {
    "id": "V5cBV1LOA3d-",
    "colab": {
     "base_uri": "https://localhost:8080/",
     "height": 280
    },
    "outputId": "fe2c86f9-2ebd-4981-9e68-fba43559973d"
   },
   "execution_count": 18,
   "outputs": [
    {
     "output_type": "error",
     "ename": "ZeroDivisionError",
     "evalue": "division by zero",
     "traceback": [
      "\u001B[0;31m---------------------------------------------------------------------------\u001B[0m",
      "\u001B[0;31mZeroDivisionError\u001B[0m                         Traceback (most recent call last)",
      "\u001B[0;32m<ipython-input-18-6b51bf7b5695>\u001B[0m in \u001B[0;36m<cell line: 0>\u001B[0;34m()\u001B[0m\n\u001B[1;32m      1\u001B[0m \u001B[0mbad_decision\u001B[0m \u001B[0;34m=\u001B[0m \u001B[0;36m0\u001B[0m\u001B[0;34m\u001B[0m\u001B[0;34m\u001B[0m\u001B[0m\n\u001B[0;32m----> 2\u001B[0;31m \u001B[0mprint\u001B[0m\u001B[0;34m(\u001B[0m\u001B[0mdivide\u001B[0m\u001B[0;34m(\u001B[0m\u001B[0mfst_val\u001B[0m\u001B[0;34m,\u001B[0m \u001B[0mbad_decision\u001B[0m\u001B[0;34m)\u001B[0m\u001B[0;34m)\u001B[0m\u001B[0;34m\u001B[0m\u001B[0;34m\u001B[0m\u001B[0m\n\u001B[0m",
      "\u001B[0;32m<ipython-input-17-5cc74f1b9b5f>\u001B[0m in \u001B[0;36mdivide\u001B[0;34m(fst, scd)\u001B[0m\n\u001B[1;32m      1\u001B[0m \u001B[0;32mdef\u001B[0m \u001B[0mdivide\u001B[0m\u001B[0;34m(\u001B[0m\u001B[0mfst\u001B[0m\u001B[0;34m,\u001B[0m \u001B[0mscd\u001B[0m\u001B[0;34m)\u001B[0m\u001B[0;34m:\u001B[0m\u001B[0;34m\u001B[0m\u001B[0;34m\u001B[0m\u001B[0m\n\u001B[0;32m----> 2\u001B[0;31m   \u001B[0;32mreturn\u001B[0m \u001B[0mfst\u001B[0m \u001B[0;34m/\u001B[0m \u001B[0mscd\u001B[0m\u001B[0;34m\u001B[0m\u001B[0;34m\u001B[0m\u001B[0m\n\u001B[0m\u001B[1;32m      3\u001B[0m \u001B[0;34m\u001B[0m\u001B[0m\n\u001B[1;32m      4\u001B[0m \u001B[0mfst_val\u001B[0m \u001B[0;34m=\u001B[0m \u001B[0;36m4\u001B[0m\u001B[0;34m\u001B[0m\u001B[0;34m\u001B[0m\u001B[0m\n\u001B[1;32m      5\u001B[0m \u001B[0mscd_val\u001B[0m \u001B[0;34m=\u001B[0m \u001B[0;36m7\u001B[0m\u001B[0;34m\u001B[0m\u001B[0;34m\u001B[0m\u001B[0m\n",
      "\u001B[0;31mZeroDivisionError\u001B[0m: division by zero"
     ]
    }
   ]
  },
  {
   "cell_type": "markdown",
   "source": [
    "4. (4б) Перевизначте функцію так, щоби у випадку ділення на 0 функція повертала None, а в решті випадків - результат розрахунків."
   ],
   "metadata": {
    "id": "QyimWgW8A43-"
   }
  },
  {
   "cell_type": "code",
   "source": [
    "def divide(fst, scd):\n",
    "  if scd == 0:\n",
    "    return None\n",
    "  return fst / scd\n",
    "\n",
    "print(divide(fst_val, scd_val))\n",
    "print(divide(fst_val, bad_decision))"
   ],
   "metadata": {
    "id": "7VIODtSjA8Ek",
    "colab": {
     "base_uri": "https://localhost:8080/"
    },
    "outputId": "704f72b2-1500-4cf3-c56a-2e4023ba8d44"
   },
   "execution_count": 19,
   "outputs": [
    {
     "output_type": "stream",
     "name": "stdout",
     "text": [
      "0.5714285714285714\n",
      "None\n"
     ]
    }
   ]
  },
  {
   "cell_type": "markdown",
   "source": [
    "5. (5б) Визначте функцію, що віднімає одне число від іншого (підказка: це буде 2 аргументи функції). При чому, якщо не визначити, скільки саме має бути віднято від числа, за замовчуванням має відніматися 1. Викличте функцію, передаючи тільки один аргумент."
   ],
   "metadata": {
    "id": "Y8mN0GfkA81l"
   }
  },
  {
   "cell_type": "code",
   "source": [
    "def subtract(fst, scd = 1):\n",
    "  return fst - scd\n",
    "\n",
    "print(subtract(fst_val, scd_val))\n",
    "print(subtract(fst_val))"
   ],
   "metadata": {
    "id": "vg1kxkdgBA50",
    "colab": {
     "base_uri": "https://localhost:8080/"
    },
    "outputId": "75def796-a366-4c1f-9502-924a5c213fba"
   },
   "execution_count": 20,
   "outputs": [
    {
     "output_type": "stream",
     "name": "stdout",
     "text": [
      "-3\n",
      "3\n"
     ]
    }
   ]
  },
  {
   "cell_type": "markdown",
   "source": [
    "6. (7б) Визначте функцію, яка приймає iterable (ітерабельний обʼєкт, напр. список), що складається з 7ми рядкових значень - назв погодних умов (напр. \"sunny\") за кожен день у тижні. Повертає функція словник, де ключами є рядки з погодними умовами, а значеннями - кількість разів, скільки дана погода була протягом тижня (напр. {'sunny': 1, ...}). Викличте цю функцію та виведіть результат її роботи на екран."
   ],
   "metadata": {
    "id": "D3mwQGNOBBs4"
   }
  },
  {
   "cell_type": "code",
   "source": [
    "def weather_counter(week_weather):\n",
    "  result = {}\n",
    "  if len(week_weather) != 7:\n",
    "    return\n",
    "  for weather in week_weather:\n",
    "    if weather in result:\n",
    "      result[weather] = result[weather] + 1\n",
    "    else:\n",
    "      result[weather] = 1\n",
    "  return result\n",
    "\n",
    "weather_list = [\"sunny\", \"foggy\", \"foggy\", \"snowy\", \"rainy\", \"rainy\", \"sunny\"]\n",
    "print(weather_counter(weather_list))"
   ],
   "metadata": {
    "id": "OsWm-hKcBFyn",
    "colab": {
     "base_uri": "https://localhost:8080/"
    },
    "outputId": "4732a067-3bbb-4910-d843-26896a083941"
   },
   "execution_count": 21,
   "outputs": [
    {
     "output_type": "stream",
     "name": "stdout",
     "text": [
      "{'sunny': 2, 'foggy': 2, 'snowy': 1, 'rainy': 2}\n"
     ]
    }
   ]
  },
  {
   "cell_type": "markdown",
   "source": [
    "7. (15б) Напишіть програму, яка б шукала необхідне число у впорядкованому списку цілочислених значень, де\n",
    "число має вводитись з консолі.\n",
    "власне алгоритм пошуку винесений в окрему функцію, яка повертає булеве значення (знайдено число - True, не знайдено - False).\n",
    "в залежності від результату функції, виведіть на екран повідомлення про успішний або ж неуспішний пошук.\n",
    "Зауваження: використовувати оператор in заборонено."
   ],
   "metadata": {
    "id": "RMiCcdOsBKQT"
   }
  },
  {
   "cell_type": "code",
   "source": [
    "def find(search_list, value):\n",
    "  lo = 0\n",
    "  hi = len(search_list) - 1\n",
    "  while lo <= hi:\n",
    "    mid = lo + (hi - lo) // 2\n",
    "    curr_value = search_list[mid]\n",
    "    if curr_value == value:\n",
    "      return True\n",
    "    elif curr_value > value:\n",
    "      hi = mid - 1\n",
    "    else:\n",
    "      lo = mid + 1\n",
    "  return False\n",
    "\n",
    "my_list = [1, 2, 3, 4, 6, 8, 10, 23, 50, 78]\n",
    "search_number = int(input(\"Enter a number: \"))\n",
    "if find(my_list, search_number):\n",
    "  print(f\"The number {search_number} is present in the list\")\n",
    "else:\n",
    "  print(f\"The number {search_number} is not present in the list\")"
   ],
   "metadata": {
    "id": "UNCZg65OBOy-",
    "colab": {
     "base_uri": "https://localhost:8080/"
    },
    "outputId": "4ef52546-cb8f-483f-b768-bf1807f2328e"
   },
   "execution_count": 22,
   "outputs": [
    {
     "output_type": "stream",
     "name": "stdout",
     "text": [
      "Enter a number: 4\n",
      "The number 4 is present in the list\n"
     ]
    }
   ]
  },
  {
   "cell_type": "markdown",
   "source": [
    "# II. Lambda functions."
   ],
   "metadata": {
    "id": "Ae1n_OvLBTsy"
   }
  },
  {
   "cell_type": "markdown",
   "source": [
    "8. (4б) В яких випадках варто використовувати лямбда-функції?"
   ],
   "metadata": {
    "id": "xaD_wSlaCWen"
   }
  },
  {
   "cell_type": "markdown",
   "source": [
    "Коли треба одноразово виконати коротку однорядкову функцію (наприклад в map, filter, reduce)"
   ],
   "metadata": {
    "id": "42MB6OoLCakR"
   }
  },
  {
   "cell_type": "markdown",
   "source": [
    "9. (9б) Визначте список з рядками. Після цього визначте анонімну функцію для отримання першого символу у верхньому регістрі для кожного рядка списку.\n",
    "Підказка: використовуйте анонімну функцію в якості агрумента до вбудованої ф-ції, яка створена для застосування функцій над iterable обʼєктами. Результат виведіть на екран у вигляді кортежу."
   ],
   "metadata": {
    "id": "USrzrk7GCedk"
   }
  },
  {
   "cell_type": "code",
   "source": [
    "fst_list = [\"bib\", \"aye\", \"oi\", \"hm\"]\n",
    "result = tuple(map(lambda a: a[0].upper(), fst_list))\n",
    "print(result)"
   ],
   "metadata": {
    "id": "M8QWUsMlCjWH",
    "colab": {
     "base_uri": "https://localhost:8080/"
    },
    "outputId": "daa2fff6-51b1-4ede-b4f9-8953b94154b5"
   },
   "execution_count": 23,
   "outputs": [
    {
     "output_type": "stream",
     "name": "stdout",
     "text": [
      "('B', 'A', 'O', 'H')\n"
     ]
    }
   ]
  },
  {
   "cell_type": "markdown",
   "source": [
    "10. (10б) Визначте список з числовими значеннями (і цілими, і з рухомою комою). а) Відфільтруйте всі числа, які діляться націло на 3 за допомогою вбудованої функції та анонімної функції в якості аргумента). Збережіть результат у змінній, не приводяти явно до будь-якого типу. б) Використовуючи результат на кроці 12.а у якості аргументу, та за допомогою лямбда-функції в якості іншого аргументу до вбудованої функції, додайте до кожного елементу число 1 та опісля зведіть у квадрат. Остаточний результат приведіть явно до списку та виведіть на екран."
   ],
   "metadata": {
    "id": "9fyUhXOoCtGp"
   }
  },
  {
   "cell_type": "code",
   "source": [
    "nums = [1, 2, 4, 5, 6, 7, 8, 9, 12, 34, 465, 666]\n",
    "filtered = filter(lambda a: a % 3 == 0, nums)\n",
    "result = list(map(lambda a: (a + a) ** 2, filtered))\n",
    "print(result)"
   ],
   "metadata": {
    "id": "exEx2_okCsql",
    "colab": {
     "base_uri": "https://localhost:8080/"
    },
    "outputId": "17e28e01-e8d5-4256-96cc-3d2959b963b2"
   },
   "execution_count": 24,
   "outputs": [
    {
     "output_type": "stream",
     "name": "stdout",
     "text": [
      "[144, 324, 576, 864900, 1774224]\n"
     ]
    }
   ]
  },
  {
   "cell_type": "markdown",
   "source": [
    "# III. Decorators."
   ],
   "metadata": {
    "id": "o_x8cG_WC7jp"
   }
  },
  {
   "cell_type": "markdown",
   "source": [
    "11. (11б) Визначте декоратор, який би виводив у консоль повідомлення про початок роботи і назву функції (напр. my_function._ _ name _ _), а після відпрацювання функції - повідомлення про закінчення роботи і назву функції, що задекорована."
   ],
   "metadata": {
    "id": "mhxS4-mfC8LQ"
   }
  },
  {
   "cell_type": "code",
   "source": [
    "def fst_decorator(func):\n",
    "  def wrapper(*args, **kwargs):\n",
    "    print(f\"Started execution of {func.__name__}\")\n",
    "    func_result = func(*args)\n",
    "    print(f\"Stopped execution of {func.__name__}\")\n",
    "    return func_result\n",
    "  return wrapper\n",
    "\n",
    "@fst_decorator\n",
    "def silly_func():\n",
    "  print(\"Executing function\")\n",
    "\n",
    "silly_func()"
   ],
   "metadata": {
    "id": "srd1ygWjDGhO",
    "colab": {
     "base_uri": "https://localhost:8080/"
    },
    "outputId": "585e480c-05fb-4b53-cc25-06cf94d65bf3"
   },
   "execution_count": 25,
   "outputs": [
    {
     "output_type": "stream",
     "name": "stdout",
     "text": [
      "Started execution of silly_func\n",
      "Executing function\n",
      "Stopped execution of silly_func\n"
     ]
    }
   ]
  },
  {
   "cell_type": "markdown",
   "source": [
    "12. (4б) Задекоруйте двома різними способами функції з завдання 4 та 5 декоратором із завдання 11. (**УВАГА**: не декоруйте функції двічі!)."
   ],
   "metadata": {
    "id": "rxGZwVBiDph3"
   }
  },
  {
   "cell_type": "code",
   "source": [
    "div_decorated = fst_decorator(divide)\n",
    "\n",
    "@fst_decorator\n",
    "def subtract(fst, scd = 1):\n",
    "  return fst - scd"
   ],
   "metadata": {
    "id": "06lj7eq_DwZe"
   },
   "execution_count": 26,
   "outputs": []
  },
  {
   "cell_type": "markdown",
   "source": [
    "13. (2б) Викличте одну з задекорованих функцій і виведіть її результат на екран."
   ],
   "metadata": {
    "id": "P0ep1urBDzf-"
   }
  },
  {
   "cell_type": "code",
   "source": [
    "fst_res = div_decorated(2, 3)\n",
    "print(fst_res)"
   ],
   "metadata": {
    "id": "1QvTw0ctD0S3",
    "colab": {
     "base_uri": "https://localhost:8080/"
    },
    "outputId": "07d7a28f-f55a-41dc-da14-751350d15fef"
   },
   "execution_count": 27,
   "outputs": [
    {
     "output_type": "stream",
     "name": "stdout",
     "text": [
      "Started execution of divide\n",
      "Stopped execution of divide\n",
      "0.6666666666666666\n"
     ]
    }
   ]
  },
  {
   "cell_type": "markdown",
   "source": [
    "# IV. Recursion."
   ],
   "metadata": {
    "id": "poECCpuoD2S9"
   }
  },
  {
   "cell_type": "markdown",
   "source": [
    "14. (4б) Назвіть дві частини функції, які є обовʼязковими для того, щоб називати її рекурсивною."
   ],
   "metadata": {
    "id": "DqkURfdsD7MY"
   }
  },
  {
   "cell_type": "markdown",
   "source": [
    "виклик самої себе в тілі та відповідна умова для \"зупинки\" рекурсії"
   ],
   "metadata": {
    "id": "HYW6ttIeIQIU"
   }
  },
  {
   "cell_type": "markdown",
   "source": [
    "15. (15б) Визначте функцію, яка рекурсивно реалізовує пошук числа у послідовності Фібоначчі за її індексом (нумерація починається з нуля). Наприклад, потрібно знайти перше число у послідовності, тоді функція прийматиме 0 у якості аргумента і повертатиме 1, якщо ж знаходити третє число (індекс 2) послідовності, то функція повертатиме 2, якщо ж знаходити десяте число (індекс 9), то функція повертатиме 55."
   ],
   "metadata": {
    "id": "WYVt20UmEA35"
   }
  },
  {
   "cell_type": "code",
   "source": [
    "def fib(index):\n",
    "  if index == 0 or index == 1:\n",
    "    return 1\n",
    "  return fib(index - 1) + fib(index - 2)\n",
    "\n",
    "fst_index = 0\n",
    "scd_index = 2\n",
    "trd_index = 9\n",
    "\n",
    "print(fib(fst_index))\n",
    "print(fib(scd_index))\n",
    "print(fib(trd_index))"
   ],
   "metadata": {
    "id": "xIMhp05AIpV_",
    "colab": {
     "base_uri": "https://localhost:8080/"
    },
    "outputId": "a57bf05f-1f82-4e73-cd5e-7b038f87626f"
   },
   "execution_count": 28,
   "outputs": [
    {
     "output_type": "stream",
     "name": "stdout",
     "text": [
      "1\n",
      "2\n",
      "55\n"
     ]
    }
   ]
  },
  {
   "cell_type": "markdown",
   "source": [
    "# Вітаю! Ви велика(ий) молодець, що впоралась(вся). Похваліть себе та побалуйте чимось приємним. Я Вами пишаюся."
   ],
   "metadata": {
    "id": "ytXC8n_4Ip0W"
   }
  }
 ]
}
